{
 "cells": [
  {
   "cell_type": "code",
   "execution_count": 1,
   "metadata": {},
   "outputs": [],
   "source": [
    "import sys\n",
    "import torch\n",
    "import os\n",
    "import json\n",
    "import time\n",
    "import random\n",
    "\n",
    "import numpy as np\n",
    "import pandas as pd\n",
    "from sklearn.metrics import confusion_matrix\n",
    "from sklearn.preprocessing import normalize\n",
    "\n",
    "import matplotlib.pyplot as plt\n",
    "import matplotlib.patheffects as pe\n",
    "import seaborn as sn\n",
    "\n",
    "from tqdm import tqdm\n",
    "\n",
    "import cv2\n",
    "\n",
    "import torch\n",
    "import torchvision\n",
    "import torch.nn as nn\n",
    "import torch.optim as optim\n",
    "from torch.nn import functional as F\n",
    "from torch.utils.data import Dataset, DataLoader\n",
    "from torchvision import transforms\n",
    "import albumentations as album\n",
    "import gc\n",
    "import segmentation_models_pytorch as smp\n",
    "from segmentation_models_pytorch import utils\n",
    "\n",
    "gc.collect()\n",
    "torch.cuda.empty_cache()"
   ]
  },
  {
   "cell_type": "code",
   "execution_count": 3,
   "metadata": {},
   "outputs": [
    {
     "name": "stdout",
     "output_type": "stream",
     "text": [
      "CUDA is available\n"
     ]
    }
   ],
   "source": [
    "# Set seed for reproducibility\n",
    "def set_seed(seed, use_gpu=True):\n",
    "    random.seed(seed)\n",
    "    np.random.seed(seed)\n",
    "    torch.manual_seed(seed)\n",
    "    if use_gpu:\n",
    "        print(\"CUDA is available\")\n",
    "        torch.cuda.manual_seed_all(seed)\n",
    "        torch.backends.cudnn.deterministic = True\n",
    "        torch.backends.cudnn.benchmark = False\n",
    "\n",
    "SEED = 12345\n",
    "USE_SEED = True\n",
    "\n",
    "if USE_SEED:\n",
    "    set_seed(SEED, torch.cuda.is_available())"
   ]
  },
  {
   "cell_type": "code",
   "execution_count": 4,
   "metadata": {},
   "outputs": [],
   "source": [
    "DATA_PATH = \"./data\"\n",
    "train_metadata_df = pd.read_csv(os.path.join(DATA_PATH, \"train_metadata_patches256.csv\"))\n",
    "valid_metadata_df = pd.read_csv(os.path.join(DATA_PATH, \"valid_metadata_patches256.csv\"))\n",
    "test_metadata_df = pd.read_csv(os.path.join(DATA_PATH, \"test_metadata_patches256.csv\"))\n"
   ]
  },
  {
   "cell_type": "code",
   "execution_count": 5,
   "metadata": {},
   "outputs": [],
   "source": [
    "train_metadata_df[\"sat_image_path\"] = train_metadata_df[\"sat_image_path\"].apply(lambda img_pth: os.path.join(DATA_PATH, img_pth))\n",
    "train_metadata_df[\"mask_path\"] = train_metadata_df[\"mask_path\"].apply(lambda mask_pth: os.path.join(DATA_PATH, mask_pth))\n",
    "\n",
    "valid_metadata_df[\"sat_image_path\"] = valid_metadata_df[\"sat_image_path\"].apply(lambda img_pth: os.path.join(DATA_PATH, img_pth))\n",
    "valid_metadata_df[\"mask_path\"] = valid_metadata_df[\"mask_path\"].apply(lambda mask_pth: os.path.join(DATA_PATH, mask_pth))\n",
    "\n",
    "test_metadata_df[\"sat_image_path\"] = test_metadata_df[\"sat_image_path\"].apply(lambda img_pth: os.path.join(DATA_PATH, img_pth))\n",
    "test_metadata_df[\"mask_path\"] = test_metadata_df[\"mask_path\"].apply(lambda mask_pth: os.path.join(DATA_PATH, mask_pth))\n"
   ]
  },
  {
   "cell_type": "code",
   "execution_count": 6,
   "metadata": {},
   "outputs": [
    {
     "name": "stdout",
     "output_type": "stream",
     "text": [
      "class name:          class RGB values:    \n",
      "\n",
      "built-up             [255, 0, 0]         \n",
      "farmland             [0, 255, 0]         \n",
      "forest               [0, 255, 255]       \n",
      "meadow               [255, 255, 0]       \n",
      "water                [0, 0, 255]         \n",
      "unknown              [0, 0, 0]           \n"
     ]
    }
   ],
   "source": [
    "class_dict = pd.read_csv(os.path.join(DATA_PATH, \"class_dict.csv\"))\n",
    "class_names = class_dict[\"name\"].tolist()\n",
    "class_rgb_values = class_dict[[\"r\", \"g\", \"b\"]].values.tolist()\n",
    "\n",
    "format_spec = \"{:<20} {:<20}\"\n",
    "print(format_spec.format(\"class name:\", \"class RGB values:\"), \"\\n\")\n",
    "\n",
    "for i in range(len(class_names)):\n",
    "    print(format_spec.format(str(class_names[i]), str(class_rgb_values[i])))\n"
   ]
  },
  {
   "cell_type": "code",
   "execution_count": 7,
   "metadata": {},
   "outputs": [],
   "source": [
    "class DeepGlobeLandCover(Dataset):\n",
    "    def __init__(self, df, class_rgb_values=None, transform=None):\n",
    "        self.image_paths = df[\"sat_image_path\"].tolist()\n",
    "        self.mask_paths = df[\"mask_path\"].tolist()\n",
    "        self.class_rgb_values = class_rgb_values\n",
    "        self.transform = transform\n",
    "\n",
    "    def __len__(self):\n",
    "        return len(self.image_paths)\n",
    "    \n",
    "    def __getitem__(self, i):\n",
    "        image = cv2.imread(self.image_paths[i])\n",
    "        mask = cv2.imread(self.mask_paths[i])\n",
    "\n",
    "        if self.transform:\n",
    "            sample = self.transform(image=image, mask=mask)\n",
    "            image, mask = sample[\"image\"], sample[\"mask\"]\n",
    "\n",
    "        mask = rgb_to_dense_encoding(mask, self.class_rgb_values)\n",
    "\n",
    "        image = torch.from_numpy(image).permute(2, 0, 1)\n",
    "        mask = torch.from_numpy(mask)\n",
    "\n",
    "        return image, mask"
   ]
  },
  {
   "cell_type": "code",
   "execution_count": 8,
   "metadata": {},
   "outputs": [],
   "source": [
    "def rgb_to_dense_encoding(mask_rgb, class_rgb_values):\n",
    "    if mask_rgb.shape[2] != 3:\n",
    "        raise ValueError(\"The number of channels must be 3\")\n",
    "\n",
    "    mask_dense = np.zeros((mask_rgb.shape[0], mask_rgb.shape[1]), dtype=\"uint8\")\n",
    "    for i, rgb in enumerate(class_rgb_values):\n",
    "        mask_dense[np.all(np.equal(mask_rgb, rgb), axis=-1)] = i\n",
    "    return mask_dense\n",
    "\n",
    "def dense_to_rgb_encoding(mask_dense, class_rgb_values):\n",
    "    if len(mask_dense.shape) != 2:\n",
    "        raise ValueError(\"The number of channels must be 1\")\n",
    "\n",
    "    mask_rgb = np.zeros((mask_dense.shape[0], mask_dense.shape[1], 3), dtype=\"uint8\")\n",
    "    for i, rgb in enumerate(class_rgb_values):\n",
    "        mask_rgb[mask_dense == i, :] = rgb\n",
    "    return mask_rgb"
   ]
  },
  {
   "cell_type": "code",
   "execution_count": 9,
   "metadata": {},
   "outputs": [
    {
     "name": "stderr",
     "output_type": "stream",
     "text": [
      "100%|██████████| 55566/55566 [10:40<00:00, 86.79it/s] \n"
     ]
    },
    {
     "name": "stdout",
     "output_type": "stream",
     "text": [
      "[0.15084652 0.34913148 0.06891692 0.00762519 0.08419963 0.33928026]\n"
     ]
    }
   ],
   "source": [
    "def task_pixels(mask_path):\n",
    "    mask = cv2.imread(mask_path)\n",
    "    mask = rgb_to_dense_encoding(mask, class_rgb_values)\n",
    "    unique, counts = np.unique(mask, return_counts=True)\n",
    "    return (unique, counts)\n",
    "\n",
    "FREQ = True\n",
    "if FREQ:\n",
    "    sparse_pixels = [task_pixels(path) for path in tqdm(train_metadata_df[\"mask_path\"].tolist())]\n",
    "    pixels = np.zeros((len(sparse_pixels), 6))\n",
    "    for i in range(len(sparse_pixels)):\n",
    "        pixels[i, sparse_pixels[i][0]] = sparse_pixels[i][1]\n",
    "total_pixels_per_class = pixels.sum(axis=0)\n",
    "total_pixels = total_pixels_per_class.sum()\n",
    "distr = total_pixels_per_class / total_pixels\n",
    "assert np.isclose(distr.sum(), 1), \"Sum of distribution is not equal to 1\"\n",
    "print(distr)\n",
    "\n",
    "freq = np.array([0.16138614, 0.34260766, 0.06750223, 0.00764113, 0.08391151, 0.33695133])\n",
    "class_weight = np.median(freq)/freq"
   ]
  },
  {
   "cell_type": "code",
   "execution_count": 10,
   "metadata": {},
   "outputs": [],
   "source": [
    "def to_tensor(x, **kwargs):\n",
    "    return x.transpose(2, 0, 1).astype(\"float32\")\n",
    "\n",
    "def get_training_augmentation():\n",
    "    return album.Compose([\n",
    "        album.RandomRotate90(p=1),\n",
    "        album.HorizontalFlip(p=0.5),\n",
    "        album.VerticalFlip(p=0.5),\n",
    "        album.Transpose(p=0.5),\n",
    "        album.ColorJitter(p=0.5),\n",
    "        album.Normalize(mean=[79.75/255, 112.14/255, 110.33/255], std=[79.75/255, 112.14/255, 110.33/255])\n",
    "    ])\n",
    "\n",
    "def get_validation_augmentation():\n",
    "    return album.Compose([\n",
    "        album.Resize(height=128, width=128),\n",
    "        album.Normalize(mean=[79.75/255, 112.14/255, 110.33/255], std=[79.75/255, 112.14/255, 110.33/255])\n",
    "    ])\n",
    "\n",
    "def get_preprocessing(preprocessing_fn):\n",
    "    return album.Compose([\n",
    "        album.Lambda(image=preprocessing_fn),\n",
    "        album.Lambda(image=to_tensor, mask=to_tensor)\n",
    "    ])\n"
   ]
  },
  {
   "cell_type": "code",
   "execution_count": 11,
   "metadata": {},
   "outputs": [],
   "source": [
    "train_transform = get_training_augmentation()\n",
    "valid_transform = get_validation_augmentation()\n",
    "\n",
    "ENCODER = \"resnet50\"\n",
    "ENCODER_WEIGHTS = \"imagenet\"\n",
    "ACTIVATION = \"softmax2d\"\n",
    "\n",
    "preprocessing_fn = smp.encoders.get_preprocessing_fn(ENCODER, ENCODER_WEIGHTS)\n",
    "\n",
    "train_dataset = DeepGlobeLandCover(train_metadata_df, class_rgb_values, transform=album.Compose([train_transform, get_preprocessing(preprocessing_fn)]))\n",
    "valid_dataset = DeepGlobeLandCover(valid_metadata_df, class_rgb_values, transform=album.Compose([valid_transform, get_preprocessing(preprocessing_fn)]))\n",
    "test_dataset = DeepGlobeLandCover(test_metadata_df, class_rgb_values, transform=album.Compose([valid_transform, get_preprocessing(preprocessing_fn)]))\n"
   ]
  },
  {
   "cell_type": "code",
   "execution_count": 12,
   "metadata": {},
   "outputs": [],
   "source": [
    "BATCH_SIZE = 8\n",
    "train_iterator = DataLoader(train_dataset, shuffle=True, batch_size=BATCH_SIZE, drop_last=True)\n",
    "valid_iterator = DataLoader(valid_dataset, batch_size=BATCH_SIZE, drop_last=True)\n",
    "test_iterator = DataLoader(test_dataset, batch_size=BATCH_SIZE, drop_last=True)\n"
   ]
  },
  {
   "cell_type": "code",
   "execution_count": 13,
   "metadata": {},
   "outputs": [],
   "source": [
    "model = smp.DeepLabV3Plus(encoder_name=ENCODER, encoder_weights=ENCODER_WEIGHTS, classes=len(class_names), activation=ACTIVATION)\n",
    "device = torch.device(\"cuda\" if torch.cuda.is_available() else \"cpu\")\n",
    "model = model.to(device)"
   ]
  },
  {
   "cell_type": "code",
   "execution_count": 14,
   "metadata": {},
   "outputs": [],
   "source": [
    "criterion = nn.CrossEntropyLoss(weight=torch.from_numpy(class_weight).float()).to(device)\n",
    "optimizer = optim.Adam(model.parameters(), lr=1e-3, weight_decay=1e-5)\n"
   ]
  },
  {
   "cell_type": "code",
   "execution_count": 15,
   "metadata": {},
   "outputs": [],
   "source": [
    "from torch.cuda.amp import GradScaler, autocast\n",
    "scaler = GradScaler()"
   ]
  },
  {
   "cell_type": "code",
   "execution_count": 16,
   "metadata": {},
   "outputs": [],
   "source": [
    "def compute_CM_elements(y_logits, y):\n",
    "    y_prob = F.softmax(y_logits, dim=1)\n",
    "    y_pred = y_prob.argmax(dim=1)\n",
    "    y_pred_bool = F.one_hot(y_pred, num_classes=6).bool()\n",
    "    y_bool = F.one_hot(y, num_classes=6).bool()\n",
    "    TP = torch.sum(torch.logical_and(y_pred_bool, y_bool), dim=(0,1,2))\n",
    "    FP = torch.sum(y_pred_bool, dim=(0,1,2)) - TP\n",
    "    TN = torch.sum(torch.logical_and(~y_pred_bool, ~y_bool), dim=(0,1,2))\n",
    "    FN = torch.sum(~y_pred_bool, dim=(0,1,2)) - TN\n",
    "    return TP, FP, TN, FN"
   ]
  },
  {
   "cell_type": "code",
   "execution_count": 17,
   "metadata": {},
   "outputs": [],
   "source": [
    "def compute_metrics(loss, TP, FP, TN, FN):\n",
    "    IoU = TP / (TP + FP + FN)\n",
    "    MA_IoU = torch.sum(IoU) / 6\n",
    "    accuracy = (TP + TN) / (TP + FP + TN + FN)\n",
    "    MA_accuracy = torch.sum(accuracy) / 6\n",
    "    precision = TP / (TP + FP)\n",
    "    MA_precision = torch.sum(precision) / 6\n",
    "    recall = TP / (TP + FN)\n",
    "    MA_recall = torch.sum(recall) / 6\n",
    "    F1_score = 2 * (precision * recall) / (precision + recall)\n",
    "    MA_F1_score = 2 * (MA_precision * MA_recall) / (MA_precision + MA_recall)\n",
    "\n",
    "    metrics = {\n",
    "        \"loss\": loss.item(),\n",
    "        \"IoU\": IoU.tolist(),\n",
    "        \"MA_IoU\": MA_IoU.item(),\n",
    "        \"accuracy\": accuracy.tolist(),\n",
    "        \"MA_accuracy\": MA_accuracy.item(),\n",
    "        \"precision\": precision.tolist(),\n",
    "        \"MA_precision\": MA_precision.item(),\n",
    "        \"recall\": recall.tolist(),\n",
    "        \"MA_recall\": MA_recall.item(),\n",
    "        \"F1_score\": F1_score.tolist(),\n",
    "        \"MA_F1_score\": MA_F1_score.item()\n",
    "    }\n",
    "    return metrics"
   ]
  },
  {
   "cell_type": "code",
   "execution_count": 18,
   "metadata": {},
   "outputs": [],
   "source": [
    "def train(model, iterator, criterion, optimizer, device, desc=\"Train\"):\n",
    "    epoch_loss = 0\n",
    "    epoch_TP = 0\n",
    "    epoch_FP = 0\n",
    "    epoch_TN = 0\n",
    "    epoch_FN = 0\n",
    "\n",
    "    model.train()\n",
    "    for x, y in tqdm(iterator, desc=desc):\n",
    "        optimizer.zero_grad()\n",
    "        x = x.to(device)\n",
    "        y = y.to(device)\n",
    "        with autocast():\n",
    "            y_logits = model(x)\n",
    "            loss = criterion(y_logits, y.long())\n",
    "        scaler.scale(loss).backward()\n",
    "        scaler.step(optimizer)\n",
    "        scaler.update()\n",
    "        TP, FP, TN, FN = compute_CM_elements(y_logits, y.long())\n",
    "        epoch_loss += loss / len(iterator)\n",
    "        epoch_TP += TP\n",
    "        epoch_FP += FP\n",
    "        epoch_TN += TN\n",
    "        epoch_FN += FN\n",
    "    epoch_metrics = compute_metrics(epoch_loss, epoch_TP, epoch_FP, epoch_TN, epoch_FN)\n",
    "    return epoch_metrics"
   ]
  },
  {
   "cell_type": "code",
   "execution_count": 19,
   "metadata": {},
   "outputs": [],
   "source": [
    "def evaluate(model, iterator, criterion, device, desc=\"Valid\"):\n",
    "    epoch_loss = 0\n",
    "    epoch_TP = 0\n",
    "    epoch_FP = 0\n",
    "    epoch_TN = 0\n",
    "    epoch_FN = 0\n",
    "    model.eval()\n",
    "    with torch.no_grad():\n",
    "        for x, y in tqdm(iterator, desc=desc):\n",
    "            x = x.to(device)\n",
    "            y = y.to(device)\n",
    "            y_logits = model(x)\n",
    "            loss = criterion(y_logits, y.long())\n",
    "            TP, FP, TN, FN = compute_CM_elements(y_logits, y.long())\n",
    "            epoch_loss += loss / len(iterator)\n",
    "            epoch_TP += TP\n",
    "            epoch_FP += FP\n",
    "            epoch_TN += TN\n",
    "            epoch_FN += FN\n",
    "    epoch_metrics = compute_metrics(epoch_loss, epoch_TP, epoch_FP, epoch_TN, epoch_FN)\n",
    "    return epoch_met"
   ]
  },
  {
   "cell_type": "code",
   "execution_count": 20,
   "metadata": {},
   "outputs": [],
   "source": [
    "def model_training(n_epochs, model, train_iterator, valid_iterator, criterion, optimizer, device, checkpoint_name=\"checkpoint_deeplabv3plus.pt\", results_name=\"results_deeplabv3plus.csv\"):\n",
    "    best_valid_loss = float('inf')\n",
    "    train_metrics_log = {}\n",
    "    valid_metrics_log = {}\n",
    "    print(\"----------------------------------------------------------\")\n",
    "    for epoch in range(n_epochs):\n",
    "        print(f\"\\nEpoch: {epoch + 1}/{n_epochs}\\n\")\n",
    "        start_time = time.time()\n",
    "        train_metrics = train(model, train_iterator, criterion, optimizer, device, desc=\"Train\")\n",
    "        valid_metrics = evaluate(model, valid_iterator, criterion, device, desc=\"Valid\")\n",
    "        print(f\"\\nTrain:\", f\"Loss = {train_metrics['loss']:.4f},\", f\"MA_IoU = {train_metrics['MA_IoU']*100:.2f} %,\", f\"MA_acc = {train_metrics['MA_accuracy']*100:.2f} %,\", f\"MA_prec = {train_metrics['MA_precision']*100:.2f} %,\", f\"MA_rec = {train_metrics['MA_recall']*100:.2f} %,\", f\"MA_F1_score = {train_metrics['MA_F1_score']*100:.2f} %\")\n",
    "        print(f\"Valid:\", f\"Loss = {valid_metrics['loss']:.4f},\", f\"MA_IoU = {valid_metrics['MA_IoU']*100:.2f} %,\", f\"MA_acc = {valid_metrics['MA_accuracy']*100:.2f} %,\", f\"MA_prec = {valid_metrics['MA_precision']*100:.2f} %,\", f\"MA_rec = {valid_metrics['MA_recall']*100:.2f} %,\", f\"MA_F1_score = {valid_metrics['MA_F1_score']*100:.2f} %\")\n",
    "        end_time = time.time()\n",
    "        print(f\"\\nEpoch Time: {end_time-start_time:.2f} s\\n\")\n",
    "        print(\"----------------------------------------------------------\")\n",
    "        if valid_metrics[\"loss\"] < best_valid_loss:\n",
    "            best_valid_loss = valid_metrics[\"loss\"]\n",
    "            torch.save({\"epoch\": epoch + 1, \"model_state_dict\": model.state_dict(), \"criterion_state_dict\": criterion.state_dict(), \"optimizer_state_dict\": optimizer.state_dict()}, os.path.join('./checkpoints', checkpoint_name))\n",
    "        for key in train_metrics.keys():\n",
    "            if key not in train_metrics_log:\n",
    "                train_metrics_log[key] = []\n",
    "            train_metrics_log[key].append(train_metrics[key])\n",
    "        pd.DataFrame.from_dict(train_metrics_log).to_csv(\"./results/train_\" + results_name, index=False)\n",
    "        for key in valid_metrics.keys():\n",
    "            if key not in valid_metrics_log:\n",
    "                valid_metrics_log[key] = []\n",
    "            valid_metrics_log[key].append(valid_metrics[key])\n",
    "        pd.DataFrame.from_dict(valid_metrics_log).to_csv(\"./results/valid_\" + results_name, index=False)\n",
    "    return train_metrics_log, valid_metrics_log\n"
   ]
  },
  {
   "cell_type": "code",
   "execution_count": 21,
   "metadata": {},
   "outputs": [],
   "source": [
    "def test(model, iterator, criterion, device, desc=\"Test\"):\n",
    "    loss = 0\n",
    "    CM = 0\n",
    "\n",
    "    model.eval()\n",
    "    with torch.no_grad():\n",
    "        for x, y in tqdm(iterator, desc=desc):\n",
    "            x = x.to(device)\n",
    "            y = y.to(device)\n",
    "            y_logits = model(x)\n",
    "            loss = criterion(y_logits, y.long())\n",
    "            y_prob = F.softmax(y_logits, dim=1)\n",
    "            y_pred = y_prob.argmax(dim=1)\n",
    "            loss += loss / len(iterator)\n",
    "            CM += confusion_matrix(y.view(-1).tolist(), y_pred.view(-1).tolist(), labels=range(6))\n",
    "\n",
    "    loss = loss.cpu()\n",
    "    TP = CM.diagonal().copy()\n",
    "    CM_no_diag = CM - np.diag(TP)\n",
    "    FP = CM_no_diag.sum(axis=0)\n",
    "    FN = CM_no_diag.sum(axis=1)\n",
    "    TN = CM.sum() - (FP + FN + TP)\n",
    "    \n",
    "    TP = torch.from_numpy(TP)\n",
    "    FP = torch.from_numpy(FP)\n",
    "    TN = torch.from_numpy(TN)\n",
    "    FN = torch.from_numpy(FN)\n",
    "\n",
    "    metrics = compute_metrics(loss, TP, FP, TN, FN)\n",
    "\n",
    "    return metrics, CM"
   ]
  },
  {
   "cell_type": "code",
   "execution_count": 22,
   "metadata": {},
   "outputs": [],
   "source": [
    "def model_testing(model, test_iterator, criterion, device, checkpoint_name=\"checkpoint_deeplabv3plus.pt\", results_name=\"results_deeplabv3plus.csv\", CM_name=\"confusion_matrix_deeplabv3plus.csv\"):\n",
    "    checkpoint = torch.load(os.path.join(\"./checkpoints\", checkpoint_name))\n",
    "    model.load_state_dict(checkpoint[\"model_state_dict\"])\n",
    "    criterion.load_state_dict(checkpoint[\"criterion_state_dict\"])\n",
    "    metrics_log = {}\n",
    "    metrics, CM = test(model, test_iterator, criterion, device, desc=\"Test\")\n",
    "    for key in metrics.keys():\n",
    "        if key not in metrics_log:\n",
    "            metrics_log[key] = []\n",
    "        metrics_log[key].append(metrics[key])\n",
    "    pd.DataFrame.from_dict(metrics_log).to_csv(\"./results/test_\" + results_name, index=False)\n",
    "    pd.DataFrame(CM).to_csv(\"./results/\" + CM_name, index=False)"
   ]
  },
  {
   "cell_type": "code",
   "execution_count": 23,
   "metadata": {},
   "outputs": [],
   "source": [
    "def plot_CM(class_names, CM_name=\"confusion_matrix.csv\"):\n",
    "    CM = pd.read_csv(\"./results/\" + CM_name).values\n",
    "    CM = normalize(CM, axis=1, norm=\"l1\")\n",
    "    \n",
    "    fig, ax = plt.subplots(figsize=(9, 7))\n",
    "    ax = sn.heatmap(CM, xticklabels=[s.split(\"_\")[0] for s in class_names], yticklabels=[s.split(\"_\")[0] for s in class_names], vmin=0, vmax=1, cmap=\"Blues\", fmt=\".2f\", annot=True)\n",
    "    ax.collections[0].colorbar.ax.tick_params(labelsize=16)\n",
    "    plt.xticks(fontsize=18, rotation=90)\n",
    "    plt.yticks(fontsize=18, rotation=0)\n",
    "    plt.tight_layout()\n",
    "    plt.show()"
   ]
  },
  {
   "cell_type": "code",
   "execution_count": 24,
   "metadata": {},
   "outputs": [
    {
     "name": "stdout",
     "output_type": "stream",
     "text": [
      "----------------------------------------------------------\n",
      "\n",
      "Epoch: 1/5\n",
      "\n"
     ]
    },
    {
     "name": "stderr",
     "output_type": "stream",
     "text": [
      "Train:   0%|          | 0/6945 [00:00<?, ?it/s]\n"
     ]
    },
    {
     "ename": "ValueError",
     "evalue": "The number of channels must be 3",
     "output_type": "error",
     "traceback": [
      "\u001b[1;31m---------------------------------------------------------------------------\u001b[0m",
      "\u001b[1;31mValueError\u001b[0m                                Traceback (most recent call last)",
      "Cell \u001b[1;32mIn[24], line 5\u001b[0m\n\u001b[0;32m      2\u001b[0m TRAIN \u001b[38;5;241m=\u001b[39m \u001b[38;5;28;01mTrue\u001b[39;00m\n\u001b[0;32m      4\u001b[0m \u001b[38;5;28;01mif\u001b[39;00m TRAIN:\n\u001b[1;32m----> 5\u001b[0m     train_metrics_log, valid_metrics_log \u001b[38;5;241m=\u001b[39m \u001b[43mmodel_training\u001b[49m\u001b[43m(\u001b[49m\u001b[43mN_EPOCHS\u001b[49m\u001b[43m,\u001b[49m\u001b[43m \u001b[49m\u001b[43mmodel\u001b[49m\u001b[43m,\u001b[49m\u001b[43m \u001b[49m\u001b[43mtrain_iterator\u001b[49m\u001b[43m,\u001b[49m\u001b[43m \u001b[49m\u001b[43mvalid_iterator\u001b[49m\u001b[43m,\u001b[49m\u001b[43m \u001b[49m\u001b[43mcriterion\u001b[49m\u001b[43m,\u001b[49m\u001b[43m \u001b[49m\u001b[43moptimizer\u001b[49m\u001b[43m,\u001b[49m\u001b[43m \u001b[49m\u001b[43mdevice\u001b[49m\u001b[43m,\u001b[49m\u001b[43m \u001b[49m\u001b[38;5;124;43m\"\u001b[39;49m\u001b[38;5;124;43mcheckpoint_deeplabv3plus.pt\u001b[39;49m\u001b[38;5;124;43m\"\u001b[39;49m\u001b[43m,\u001b[49m\u001b[43m \u001b[49m\u001b[38;5;124;43m\"\u001b[39;49m\u001b[38;5;124;43mresults_deeplabv3plus.csv\u001b[39;49m\u001b[38;5;124;43m\"\u001b[39;49m\u001b[43m)\u001b[49m\n",
      "Cell \u001b[1;32mIn[20], line 9\u001b[0m, in \u001b[0;36mmodel_training\u001b[1;34m(n_epochs, model, train_iterator, valid_iterator, criterion, optimizer, device, checkpoint_name, results_name)\u001b[0m\n\u001b[0;32m      7\u001b[0m \u001b[38;5;28mprint\u001b[39m(\u001b[38;5;124mf\u001b[39m\u001b[38;5;124m\"\u001b[39m\u001b[38;5;130;01m\\n\u001b[39;00m\u001b[38;5;124mEpoch: \u001b[39m\u001b[38;5;132;01m{\u001b[39;00mepoch\u001b[38;5;250m \u001b[39m\u001b[38;5;241m+\u001b[39m\u001b[38;5;250m \u001b[39m\u001b[38;5;241m1\u001b[39m\u001b[38;5;132;01m}\u001b[39;00m\u001b[38;5;124m/\u001b[39m\u001b[38;5;132;01m{\u001b[39;00mn_epochs\u001b[38;5;132;01m}\u001b[39;00m\u001b[38;5;130;01m\\n\u001b[39;00m\u001b[38;5;124m\"\u001b[39m)\n\u001b[0;32m      8\u001b[0m start_time \u001b[38;5;241m=\u001b[39m time\u001b[38;5;241m.\u001b[39mtime()\n\u001b[1;32m----> 9\u001b[0m train_metrics \u001b[38;5;241m=\u001b[39m \u001b[43mtrain\u001b[49m\u001b[43m(\u001b[49m\u001b[43mmodel\u001b[49m\u001b[43m,\u001b[49m\u001b[43m \u001b[49m\u001b[43mtrain_iterator\u001b[49m\u001b[43m,\u001b[49m\u001b[43m \u001b[49m\u001b[43mcriterion\u001b[49m\u001b[43m,\u001b[49m\u001b[43m \u001b[49m\u001b[43moptimizer\u001b[49m\u001b[43m,\u001b[49m\u001b[43m \u001b[49m\u001b[43mdevice\u001b[49m\u001b[43m,\u001b[49m\u001b[43m \u001b[49m\u001b[43mdesc\u001b[49m\u001b[38;5;241;43m=\u001b[39;49m\u001b[38;5;124;43m\"\u001b[39;49m\u001b[38;5;124;43mTrain\u001b[39;49m\u001b[38;5;124;43m\"\u001b[39;49m\u001b[43m)\u001b[49m\n\u001b[0;32m     10\u001b[0m valid_metrics \u001b[38;5;241m=\u001b[39m evaluate(model, valid_iterator, criterion, device, desc\u001b[38;5;241m=\u001b[39m\u001b[38;5;124m\"\u001b[39m\u001b[38;5;124mValid\u001b[39m\u001b[38;5;124m\"\u001b[39m)\n\u001b[0;32m     11\u001b[0m \u001b[38;5;28mprint\u001b[39m(\u001b[38;5;124mf\u001b[39m\u001b[38;5;124m\"\u001b[39m\u001b[38;5;130;01m\\n\u001b[39;00m\u001b[38;5;124mTrain:\u001b[39m\u001b[38;5;124m\"\u001b[39m, \u001b[38;5;124mf\u001b[39m\u001b[38;5;124m\"\u001b[39m\u001b[38;5;124mLoss = \u001b[39m\u001b[38;5;132;01m{\u001b[39;00mtrain_metrics[\u001b[38;5;124m'\u001b[39m\u001b[38;5;124mloss\u001b[39m\u001b[38;5;124m'\u001b[39m]\u001b[38;5;132;01m:\u001b[39;00m\u001b[38;5;124m.4f\u001b[39m\u001b[38;5;132;01m}\u001b[39;00m\u001b[38;5;124m,\u001b[39m\u001b[38;5;124m\"\u001b[39m, \u001b[38;5;124mf\u001b[39m\u001b[38;5;124m\"\u001b[39m\u001b[38;5;124mMA_IoU = \u001b[39m\u001b[38;5;132;01m{\u001b[39;00mtrain_metrics[\u001b[38;5;124m'\u001b[39m\u001b[38;5;124mMA_IoU\u001b[39m\u001b[38;5;124m'\u001b[39m]\u001b[38;5;241m*\u001b[39m\u001b[38;5;241m100\u001b[39m\u001b[38;5;132;01m:\u001b[39;00m\u001b[38;5;124m.2f\u001b[39m\u001b[38;5;132;01m}\u001b[39;00m\u001b[38;5;124m %,\u001b[39m\u001b[38;5;124m\"\u001b[39m, \u001b[38;5;124mf\u001b[39m\u001b[38;5;124m\"\u001b[39m\u001b[38;5;124mMA_acc = \u001b[39m\u001b[38;5;132;01m{\u001b[39;00mtrain_metrics[\u001b[38;5;124m'\u001b[39m\u001b[38;5;124mMA_accuracy\u001b[39m\u001b[38;5;124m'\u001b[39m]\u001b[38;5;241m*\u001b[39m\u001b[38;5;241m100\u001b[39m\u001b[38;5;132;01m:\u001b[39;00m\u001b[38;5;124m.2f\u001b[39m\u001b[38;5;132;01m}\u001b[39;00m\u001b[38;5;124m %,\u001b[39m\u001b[38;5;124m\"\u001b[39m, \u001b[38;5;124mf\u001b[39m\u001b[38;5;124m\"\u001b[39m\u001b[38;5;124mMA_prec = \u001b[39m\u001b[38;5;132;01m{\u001b[39;00mtrain_metrics[\u001b[38;5;124m'\u001b[39m\u001b[38;5;124mMA_precision\u001b[39m\u001b[38;5;124m'\u001b[39m]\u001b[38;5;241m*\u001b[39m\u001b[38;5;241m100\u001b[39m\u001b[38;5;132;01m:\u001b[39;00m\u001b[38;5;124m.2f\u001b[39m\u001b[38;5;132;01m}\u001b[39;00m\u001b[38;5;124m %,\u001b[39m\u001b[38;5;124m\"\u001b[39m, \u001b[38;5;124mf\u001b[39m\u001b[38;5;124m\"\u001b[39m\u001b[38;5;124mMA_rec = \u001b[39m\u001b[38;5;132;01m{\u001b[39;00mtrain_metrics[\u001b[38;5;124m'\u001b[39m\u001b[38;5;124mMA_recall\u001b[39m\u001b[38;5;124m'\u001b[39m]\u001b[38;5;241m*\u001b[39m\u001b[38;5;241m100\u001b[39m\u001b[38;5;132;01m:\u001b[39;00m\u001b[38;5;124m.2f\u001b[39m\u001b[38;5;132;01m}\u001b[39;00m\u001b[38;5;124m %,\u001b[39m\u001b[38;5;124m\"\u001b[39m, \u001b[38;5;124mf\u001b[39m\u001b[38;5;124m\"\u001b[39m\u001b[38;5;124mMA_F1_score = \u001b[39m\u001b[38;5;132;01m{\u001b[39;00mtrain_metrics[\u001b[38;5;124m'\u001b[39m\u001b[38;5;124mMA_F1_score\u001b[39m\u001b[38;5;124m'\u001b[39m]\u001b[38;5;241m*\u001b[39m\u001b[38;5;241m100\u001b[39m\u001b[38;5;132;01m:\u001b[39;00m\u001b[38;5;124m.2f\u001b[39m\u001b[38;5;132;01m}\u001b[39;00m\u001b[38;5;124m %\u001b[39m\u001b[38;5;124m\"\u001b[39m)\n",
      "Cell \u001b[1;32mIn[18], line 9\u001b[0m, in \u001b[0;36mtrain\u001b[1;34m(model, iterator, criterion, optimizer, device, desc)\u001b[0m\n\u001b[0;32m      6\u001b[0m epoch_FN \u001b[38;5;241m=\u001b[39m \u001b[38;5;241m0\u001b[39m\n\u001b[0;32m      8\u001b[0m model\u001b[38;5;241m.\u001b[39mtrain()\n\u001b[1;32m----> 9\u001b[0m \u001b[38;5;28;01mfor\u001b[39;00m x, y \u001b[38;5;129;01min\u001b[39;00m tqdm(iterator, desc\u001b[38;5;241m=\u001b[39mdesc):\n\u001b[0;32m     10\u001b[0m     optimizer\u001b[38;5;241m.\u001b[39mzero_grad()\n\u001b[0;32m     11\u001b[0m     x \u001b[38;5;241m=\u001b[39m x\u001b[38;5;241m.\u001b[39mto(device)\n",
      "File \u001b[1;32mc:\\Users\\oswal\\miniconda3\\envs\\cudapy\\lib\\site-packages\\tqdm\\std.py:1181\u001b[0m, in \u001b[0;36mtqdm.__iter__\u001b[1;34m(self)\u001b[0m\n\u001b[0;32m   1178\u001b[0m time \u001b[38;5;241m=\u001b[39m \u001b[38;5;28mself\u001b[39m\u001b[38;5;241m.\u001b[39m_time\n\u001b[0;32m   1180\u001b[0m \u001b[38;5;28;01mtry\u001b[39;00m:\n\u001b[1;32m-> 1181\u001b[0m     \u001b[38;5;28;01mfor\u001b[39;00m obj \u001b[38;5;129;01min\u001b[39;00m iterable:\n\u001b[0;32m   1182\u001b[0m         \u001b[38;5;28;01myield\u001b[39;00m obj\n\u001b[0;32m   1183\u001b[0m         \u001b[38;5;66;03m# Update and possibly print the progressbar.\u001b[39;00m\n\u001b[0;32m   1184\u001b[0m         \u001b[38;5;66;03m# Note: does not call self.update(1) for speed optimisation.\u001b[39;00m\n",
      "File \u001b[1;32mc:\\Users\\oswal\\miniconda3\\envs\\cudapy\\lib\\site-packages\\torch\\utils\\data\\dataloader.py:631\u001b[0m, in \u001b[0;36m_BaseDataLoaderIter.__next__\u001b[1;34m(self)\u001b[0m\n\u001b[0;32m    628\u001b[0m \u001b[38;5;28;01mif\u001b[39;00m \u001b[38;5;28mself\u001b[39m\u001b[38;5;241m.\u001b[39m_sampler_iter \u001b[38;5;129;01mis\u001b[39;00m \u001b[38;5;28;01mNone\u001b[39;00m:\n\u001b[0;32m    629\u001b[0m     \u001b[38;5;66;03m# TODO(https://github.com/pytorch/pytorch/issues/76750)\u001b[39;00m\n\u001b[0;32m    630\u001b[0m     \u001b[38;5;28mself\u001b[39m\u001b[38;5;241m.\u001b[39m_reset()  \u001b[38;5;66;03m# type: ignore[call-arg]\u001b[39;00m\n\u001b[1;32m--> 631\u001b[0m data \u001b[38;5;241m=\u001b[39m \u001b[38;5;28;43mself\u001b[39;49m\u001b[38;5;241;43m.\u001b[39;49m\u001b[43m_next_data\u001b[49m\u001b[43m(\u001b[49m\u001b[43m)\u001b[49m\n\u001b[0;32m    632\u001b[0m \u001b[38;5;28mself\u001b[39m\u001b[38;5;241m.\u001b[39m_num_yielded \u001b[38;5;241m+\u001b[39m\u001b[38;5;241m=\u001b[39m \u001b[38;5;241m1\u001b[39m\n\u001b[0;32m    633\u001b[0m \u001b[38;5;28;01mif\u001b[39;00m \u001b[38;5;28mself\u001b[39m\u001b[38;5;241m.\u001b[39m_dataset_kind \u001b[38;5;241m==\u001b[39m _DatasetKind\u001b[38;5;241m.\u001b[39mIterable \u001b[38;5;129;01mand\u001b[39;00m \\\n\u001b[0;32m    634\u001b[0m         \u001b[38;5;28mself\u001b[39m\u001b[38;5;241m.\u001b[39m_IterableDataset_len_called \u001b[38;5;129;01mis\u001b[39;00m \u001b[38;5;129;01mnot\u001b[39;00m \u001b[38;5;28;01mNone\u001b[39;00m \u001b[38;5;129;01mand\u001b[39;00m \\\n\u001b[0;32m    635\u001b[0m         \u001b[38;5;28mself\u001b[39m\u001b[38;5;241m.\u001b[39m_num_yielded \u001b[38;5;241m>\u001b[39m \u001b[38;5;28mself\u001b[39m\u001b[38;5;241m.\u001b[39m_IterableDataset_len_called:\n",
      "File \u001b[1;32mc:\\Users\\oswal\\miniconda3\\envs\\cudapy\\lib\\site-packages\\torch\\utils\\data\\dataloader.py:675\u001b[0m, in \u001b[0;36m_SingleProcessDataLoaderIter._next_data\u001b[1;34m(self)\u001b[0m\n\u001b[0;32m    673\u001b[0m \u001b[38;5;28;01mdef\u001b[39;00m \u001b[38;5;21m_next_data\u001b[39m(\u001b[38;5;28mself\u001b[39m):\n\u001b[0;32m    674\u001b[0m     index \u001b[38;5;241m=\u001b[39m \u001b[38;5;28mself\u001b[39m\u001b[38;5;241m.\u001b[39m_next_index()  \u001b[38;5;66;03m# may raise StopIteration\u001b[39;00m\n\u001b[1;32m--> 675\u001b[0m     data \u001b[38;5;241m=\u001b[39m \u001b[38;5;28;43mself\u001b[39;49m\u001b[38;5;241;43m.\u001b[39;49m\u001b[43m_dataset_fetcher\u001b[49m\u001b[38;5;241;43m.\u001b[39;49m\u001b[43mfetch\u001b[49m\u001b[43m(\u001b[49m\u001b[43mindex\u001b[49m\u001b[43m)\u001b[49m  \u001b[38;5;66;03m# may raise StopIteration\u001b[39;00m\n\u001b[0;32m    676\u001b[0m     \u001b[38;5;28;01mif\u001b[39;00m \u001b[38;5;28mself\u001b[39m\u001b[38;5;241m.\u001b[39m_pin_memory:\n\u001b[0;32m    677\u001b[0m         data \u001b[38;5;241m=\u001b[39m _utils\u001b[38;5;241m.\u001b[39mpin_memory\u001b[38;5;241m.\u001b[39mpin_memory(data, \u001b[38;5;28mself\u001b[39m\u001b[38;5;241m.\u001b[39m_pin_memory_device)\n",
      "File \u001b[1;32mc:\\Users\\oswal\\miniconda3\\envs\\cudapy\\lib\\site-packages\\torch\\utils\\data\\_utils\\fetch.py:51\u001b[0m, in \u001b[0;36m_MapDatasetFetcher.fetch\u001b[1;34m(self, possibly_batched_index)\u001b[0m\n\u001b[0;32m     49\u001b[0m         data \u001b[38;5;241m=\u001b[39m \u001b[38;5;28mself\u001b[39m\u001b[38;5;241m.\u001b[39mdataset\u001b[38;5;241m.\u001b[39m__getitems__(possibly_batched_index)\n\u001b[0;32m     50\u001b[0m     \u001b[38;5;28;01melse\u001b[39;00m:\n\u001b[1;32m---> 51\u001b[0m         data \u001b[38;5;241m=\u001b[39m [\u001b[38;5;28mself\u001b[39m\u001b[38;5;241m.\u001b[39mdataset[idx] \u001b[38;5;28;01mfor\u001b[39;00m idx \u001b[38;5;129;01min\u001b[39;00m possibly_batched_index]\n\u001b[0;32m     52\u001b[0m \u001b[38;5;28;01melse\u001b[39;00m:\n\u001b[0;32m     53\u001b[0m     data \u001b[38;5;241m=\u001b[39m \u001b[38;5;28mself\u001b[39m\u001b[38;5;241m.\u001b[39mdataset[possibly_batched_index]\n",
      "File \u001b[1;32mc:\\Users\\oswal\\miniconda3\\envs\\cudapy\\lib\\site-packages\\torch\\utils\\data\\_utils\\fetch.py:51\u001b[0m, in \u001b[0;36m<listcomp>\u001b[1;34m(.0)\u001b[0m\n\u001b[0;32m     49\u001b[0m         data \u001b[38;5;241m=\u001b[39m \u001b[38;5;28mself\u001b[39m\u001b[38;5;241m.\u001b[39mdataset\u001b[38;5;241m.\u001b[39m__getitems__(possibly_batched_index)\n\u001b[0;32m     50\u001b[0m     \u001b[38;5;28;01melse\u001b[39;00m:\n\u001b[1;32m---> 51\u001b[0m         data \u001b[38;5;241m=\u001b[39m [\u001b[38;5;28;43mself\u001b[39;49m\u001b[38;5;241;43m.\u001b[39;49m\u001b[43mdataset\u001b[49m\u001b[43m[\u001b[49m\u001b[43midx\u001b[49m\u001b[43m]\u001b[49m \u001b[38;5;28;01mfor\u001b[39;00m idx \u001b[38;5;129;01min\u001b[39;00m possibly_batched_index]\n\u001b[0;32m     52\u001b[0m \u001b[38;5;28;01melse\u001b[39;00m:\n\u001b[0;32m     53\u001b[0m     data \u001b[38;5;241m=\u001b[39m \u001b[38;5;28mself\u001b[39m\u001b[38;5;241m.\u001b[39mdataset[possibly_batched_index]\n",
      "Cell \u001b[1;32mIn[7], line 19\u001b[0m, in \u001b[0;36mDeepGlobeLandCover.__getitem__\u001b[1;34m(self, i)\u001b[0m\n\u001b[0;32m     16\u001b[0m     sample \u001b[38;5;241m=\u001b[39m \u001b[38;5;28mself\u001b[39m\u001b[38;5;241m.\u001b[39mtransform(image\u001b[38;5;241m=\u001b[39mimage, mask\u001b[38;5;241m=\u001b[39mmask)\n\u001b[0;32m     17\u001b[0m     image, mask \u001b[38;5;241m=\u001b[39m sample[\u001b[38;5;124m\"\u001b[39m\u001b[38;5;124mimage\u001b[39m\u001b[38;5;124m\"\u001b[39m], sample[\u001b[38;5;124m\"\u001b[39m\u001b[38;5;124mmask\u001b[39m\u001b[38;5;124m\"\u001b[39m]\n\u001b[1;32m---> 19\u001b[0m mask \u001b[38;5;241m=\u001b[39m \u001b[43mrgb_to_dense_encoding\u001b[49m\u001b[43m(\u001b[49m\u001b[43mmask\u001b[49m\u001b[43m,\u001b[49m\u001b[43m \u001b[49m\u001b[38;5;28;43mself\u001b[39;49m\u001b[38;5;241;43m.\u001b[39;49m\u001b[43mclass_rgb_values\u001b[49m\u001b[43m)\u001b[49m\n\u001b[0;32m     21\u001b[0m image \u001b[38;5;241m=\u001b[39m torch\u001b[38;5;241m.\u001b[39mfrom_numpy(image)\u001b[38;5;241m.\u001b[39mpermute(\u001b[38;5;241m2\u001b[39m, \u001b[38;5;241m0\u001b[39m, \u001b[38;5;241m1\u001b[39m)\n\u001b[0;32m     22\u001b[0m mask \u001b[38;5;241m=\u001b[39m torch\u001b[38;5;241m.\u001b[39mfrom_numpy(mask)\n",
      "Cell \u001b[1;32mIn[8], line 3\u001b[0m, in \u001b[0;36mrgb_to_dense_encoding\u001b[1;34m(mask_rgb, class_rgb_values)\u001b[0m\n\u001b[0;32m      1\u001b[0m \u001b[38;5;28;01mdef\u001b[39;00m \u001b[38;5;21mrgb_to_dense_encoding\u001b[39m(mask_rgb, class_rgb_values):\n\u001b[0;32m      2\u001b[0m     \u001b[38;5;28;01mif\u001b[39;00m mask_rgb\u001b[38;5;241m.\u001b[39mshape[\u001b[38;5;241m2\u001b[39m] \u001b[38;5;241m!=\u001b[39m \u001b[38;5;241m3\u001b[39m:\n\u001b[1;32m----> 3\u001b[0m         \u001b[38;5;28;01mraise\u001b[39;00m \u001b[38;5;167;01mValueError\u001b[39;00m(\u001b[38;5;124m\"\u001b[39m\u001b[38;5;124mThe number of channels must be 3\u001b[39m\u001b[38;5;124m\"\u001b[39m)\n\u001b[0;32m      5\u001b[0m     mask_dense \u001b[38;5;241m=\u001b[39m np\u001b[38;5;241m.\u001b[39mzeros((mask_rgb\u001b[38;5;241m.\u001b[39mshape[\u001b[38;5;241m0\u001b[39m], mask_rgb\u001b[38;5;241m.\u001b[39mshape[\u001b[38;5;241m1\u001b[39m]), dtype\u001b[38;5;241m=\u001b[39m\u001b[38;5;124m\"\u001b[39m\u001b[38;5;124muint8\u001b[39m\u001b[38;5;124m\"\u001b[39m)\n\u001b[0;32m      6\u001b[0m     \u001b[38;5;28;01mfor\u001b[39;00m i, rgb \u001b[38;5;129;01min\u001b[39;00m \u001b[38;5;28menumerate\u001b[39m(class_rgb_values):\n",
      "\u001b[1;31mValueError\u001b[0m: The number of channels must be 3"
     ]
    }
   ],
   "source": [
    "N_EPOCHS = 5\n",
    "TRAIN = True\n",
    "\n",
    "if TRAIN:\n",
    "    train_metrics_log, valid_metrics_log = model_training(N_EPOCHS, model, train_iterator, valid_iterator, criterion, optimizer, device, \"checkpoint_deeplabv3plus.pt\", \"results_deeplabv3plus.csv\")\n"
   ]
  },
  {
   "cell_type": "code",
   "execution_count": null,
   "metadata": {},
   "outputs": [],
   "source": [
    "def plot_results(checkpoint_name=\"checkpoint.pt\", results_name=\"results.csv\"):\n",
    "    best_epoch = torch.load(os.path.join(\"./checkpoints\", checkpoint_name))[\"epoch\"]\n",
    "    train_results_df = pd.read_csv(\"./results/train_\" + results_name).iloc[:best_epoch]\n",
    "    valid_results_df = pd.read_csv(\"./results/valid_\" + results_name).iloc[:best_epoch]\n",
    "    assert len(train_results_df) == len(valid_results_df)\n",
    "    n_epochs = len(train_results_df)\n",
    "    \n",
    "    plt.figure(figsize=(21, 14))\n",
    "    \n",
    "    n_rows = 3\n",
    "    n_cols = 3\n",
    "    idx = 1\n",
    "    \n",
    "    y_ranges = [(0.4, 1.1), (0.25, 0.65), (0.4, 0.8)]\n",
    "    \n",
    "    for i, metric in enumerate([\"loss\", \"MA_IoU\", \"MA_F1_score\", \"MA_precision\", \"MA_recall\", \"MA_accuracy\"]):\n",
    "        plt.subplot(n_rows, n_cols, idx)\n",
    "        idx += 1\n",
    "        plt.plot(np.arange(n_epochs) + 1, train_results_df[metric], linewidth=3, color=\"tab:blue\", label=\"Train\")\n",
    "        plt.plot(np.arange(n_epochs) + 1, valid_results_df[metric], linewidth=3, color=\"tab:orange\", label=\"Valid\")\n",
    "        if i < 3:\n",
    "            plt.ylim(bottom=y_ranges[i][0], top=y_ranges[i][1])\n",
    "        plt.xlabel(\"epoch\", fontsize=14), plt.ylabel(metric, fontsize=14)\n",
    "        plt.xticks(fontsize=12), plt.yticks(fontsize=12)\n",
    "        plt.legend(fontsize=12)\n",
    "        plt.grid()\n",
    "        \n",
    "    plt.show()\n",
    "\n",
    "plot_results(\"checkpoint_deeplabv3plus.pt\", \"results_deeplabv3plus.csv\")"
   ]
  },
  {
   "cell_type": "code",
   "execution_count": null,
   "metadata": {},
   "outputs": [],
   "source": [
    "TEST = True\n",
    "if TEST:\n",
    "    model_testing(model, test_iterator, criterion, device, \"checkpoint_deeplabv3plus.pt\", \"results_deeplabv3plus.csv\", \"confusion_matrix_deeplabv3plus.csv\")\n"
   ]
  },
  {
   "cell_type": "code",
   "execution_count": null,
   "metadata": {},
   "outputs": [],
   "source": [
    "plot_CM(class_names, \"confusion_matrix_deeplabv3plus.csv\")"
   ]
  }
 ],
 "metadata": {
  "kernelspec": {
   "display_name": "cudapy",
   "language": "python",
   "name": "python3"
  },
  "language_info": {
   "codemirror_mode": {
    "name": "ipython",
    "version": 3
   },
   "file_extension": ".py",
   "mimetype": "text/x-python",
   "name": "python",
   "nbconvert_exporter": "python",
   "pygments_lexer": "ipython3",
   "version": "3.9.18"
  }
 },
 "nbformat": 4,
 "nbformat_minor": 2
}
