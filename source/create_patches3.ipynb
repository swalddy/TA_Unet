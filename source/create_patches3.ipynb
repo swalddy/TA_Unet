{
 "cells": [
  {
   "cell_type": "code",
   "execution_count": 1,
   "metadata": {},
   "outputs": [],
   "source": [
    "import os\n",
    "import pandas as pd\n",
    "from PIL import Image\n",
    "from tqdm import tqdm\n",
    "import shutil\n"
   ]
  },
  {
   "cell_type": "code",
   "execution_count": 2,
   "metadata": {},
   "outputs": [
    {
     "name": "stdout",
     "output_type": "stream",
     "text": [
      "Isi folder D:/VCS_Project-main/TA_Unet/source/data\\raw_patches telah dihapus.\n",
      "Isi folder D:/VCS_Project-main/TA_Unet/source/data\\mask_patches telah dihapus.\n"
     ]
    }
   ],
   "source": [
    "def clear_directory(directory):\n",
    "    # Mengecek apakah direktori ada dan tidak kosong\n",
    "    if os.path.exists(directory) and len(os.listdir(directory)) > 0:\n",
    "        # Menghapus semua isi direktori\n",
    "        for file in os.listdir(directory):\n",
    "            file_path = os.path.join(directory, file)\n",
    "            try:\n",
    "                if os.path.isfile(file_path) or os.path.islink(file_path):\n",
    "                    os.unlink(file_path)\n",
    "                elif os.path.isdir(file_path):\n",
    "                    shutil.rmtree(file_path)\n",
    "            except Exception as e:\n",
    "                print('Gagal menghapus %s. Alasan: %s' % (file_path, e))\n",
    "        print(f\"Isi folder {directory} telah dihapus.\")\n",
    "    else:\n",
    "        print(f\"Folder {directory} sudah kosong atau tidak ada.\")\n",
    "\n",
    "# Lokasi direktori dasar\n",
    "base_dir = 'D:/VCS_Project-main/TA_Unet/source/data'\n",
    "\n",
    "# Membuat folder jika belum ada\n",
    "os.makedirs(os.path.join(base_dir, 'raw_patches'), exist_ok=True)\n",
    "os.makedirs(os.path.join(base_dir, 'mask_patches'), exist_ok=True)\n",
    "\n",
    "# Mengecek dan mengosongkan folder jika perlu\n",
    "clear_directory(os.path.join(base_dir, 'raw_patches'))\n",
    "clear_directory(os.path.join(base_dir, 'mask_patches'))\n"
   ]
  },
  {
   "cell_type": "code",
   "execution_count": 3,
   "metadata": {},
   "outputs": [],
   "source": [
    "def crop_image(img_path, output_folder, prefix, size=128):\n",
    "    img = Image.open(img_path)\n",
    "    img_width, img_height = img.size\n",
    "    crops = []\n",
    "\n",
    "    # Membuat potongan gambar\n",
    "    for i in range(0, img_width, size):\n",
    "        for j in range(0, img_height, size):\n",
    "            # Memastikan potongan tidak melebihi batas gambar\n",
    "            box = (i, j, i + size if i + size <= img_width else img_width, j + size if j + size <= img_height else img_height)\n",
    "            img_crop = img.crop(box)\n",
    "            crop_path = os.path.join(output_folder, f\"{prefix}_{i}_{j}.tif\")\n",
    "            img_crop.save(crop_path)\n",
    "            crops.append(crop_path)\n",
    "    return crops\n"
   ]
  },
  {
   "cell_type": "code",
   "execution_count": 4,
   "metadata": {},
   "outputs": [
    {
     "name": "stderr",
     "output_type": "stream",
     "text": [
      "Processing images:   0%|          | 0/34 [00:00<?, ?it/s]"
     ]
    },
    {
     "name": "stderr",
     "output_type": "stream",
     "text": [
      "Processing images: 100%|██████████| 34/34 [04:52<00:00,  8.60s/it]\n"
     ]
    }
   ],
   "source": [
    "def process_images(csv_path, raw_folder, mask_folder):\n",
    "    df = pd.read_csv(csv_path)\n",
    "    new_rows = []\n",
    "\n",
    "    # Memproses setiap baris dalam DataFrame\n",
    "    for idx, row in tqdm(df.iterrows(), total=df.shape[0], desc=\"Processing images\"):\n",
    "        sat_crops = crop_image(row['sat_image_path'], raw_folder, row['image_id'] + '_sat')\n",
    "        mask_crops = crop_image(row['mask_path'], mask_folder, row['image_id'] + '_mask')\n",
    "\n",
    "        for sat_path, mask_path in zip(sat_crops, mask_crops):\n",
    "            new_rows.append({\n",
    "                'image_id': row['image_id'],\n",
    "                'sat_image_path': sat_path,\n",
    "                'mask_path': mask_path,\n",
    "                'split': row['split']\n",
    "            })\n",
    "\n",
    "    # Simpan ke CSV baru\n",
    "    new_df = pd.DataFrame(new_rows)\n",
    "    new_df.to_csv(os.path.join(os.path.dirname(csv_path), 'new_dataset.csv'), index=False)\n",
    "\n",
    "# Jalankan fungsi pemrosesan\n",
    "csv_file_path = os.path.join(base_dir, 'metadata.csv')  # Lokasi metadata.csv yang disesuaikan\n",
    "raw_patches_folder = os.path.join(base_dir, 'raw_patches')\n",
    "mask_patches_folder = os.path.join(base_dir, 'mask_patches')\n",
    "process_images(csv_file_path, raw_patches_folder, mask_patches_folder)\n"
   ]
  }
 ],
 "metadata": {
  "kernelspec": {
   "display_name": "cudapy",
   "language": "python",
   "name": "python3"
  },
  "language_info": {
   "codemirror_mode": {
    "name": "ipython",
    "version": 3
   },
   "file_extension": ".py",
   "mimetype": "text/x-python",
   "name": "python",
   "nbconvert_exporter": "python",
   "pygments_lexer": "ipython3",
   "version": "3.9.18"
  }
 },
 "nbformat": 4,
 "nbformat_minor": 2
}
