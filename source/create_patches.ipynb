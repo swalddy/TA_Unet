{
 "cells": [
  {
   "cell_type": "code",
   "execution_count": 45,
   "metadata": {
    "id": "LmeSIk59CnwQ"
   },
   "outputs": [],
   "source": [
    "import os\n",
    "import csv\n",
    "import shutil\n",
    "\n",
    "import numpy as np\n",
    "import pandas as pd\n",
    "import matplotlib.pyplot as plt\n",
    "\n",
    "from tqdm import tqdm\n",
    "\n",
    "import cv2"
   ]
  },
  {
   "cell_type": "code",
   "execution_count": 46,
   "metadata": {
    "colab": {
     "base_uri": "https://localhost:8080/",
     "height": 423
    },
    "executionInfo": {
     "elapsed": 748,
     "status": "ok",
     "timestamp": 1674049684561,
     "user": {
      "displayName": "Carlo Sgorlon Gaiatto",
      "userId": "04607051536765363290"
     },
     "user_tz": -60
    },
    "id": "SJWPk921MY8e",
    "outputId": "20a8485c-eb11-4471-ff96-82e3d23ad542"
   },
   "outputs": [
    {
     "data": {
      "text/html": [
       "<div>\n",
       "<style scoped>\n",
       "    .dataframe tbody tr th:only-of-type {\n",
       "        vertical-align: middle;\n",
       "    }\n",
       "\n",
       "    .dataframe tbody tr th {\n",
       "        vertical-align: top;\n",
       "    }\n",
       "\n",
       "    .dataframe thead th {\n",
       "        text-align: right;\n",
       "    }\n",
       "</style>\n",
       "<table border=\"1\" class=\"dataframe\">\n",
       "  <thead>\n",
       "    <tr style=\"text-align: right;\">\n",
       "      <th></th>\n",
       "      <th>image_id</th>\n",
       "      <th>split</th>\n",
       "      <th>sat_image_path</th>\n",
       "      <th>mask_path</th>\n",
       "    </tr>\n",
       "  </thead>\n",
       "  <tbody>\n",
       "    <tr>\n",
       "      <th>0</th>\n",
       "      <td>GF2_PMS1__L1A0001015649-MSS1</td>\n",
       "      <td>train</td>\n",
       "      <td>C:\\Users\\oswal\\Documents\\Kuliah\\Semester 7\\Pra...</td>\n",
       "      <td>C:\\Users\\oswal\\Documents\\Kuliah\\Semester 7\\Pra...</td>\n",
       "    </tr>\n",
       "    <tr>\n",
       "      <th>1</th>\n",
       "      <td>GF2_PMS1__L1A0001094941-MSS1</td>\n",
       "      <td>train</td>\n",
       "      <td>C:\\Users\\oswal\\Documents\\Kuliah\\Semester 7\\Pra...</td>\n",
       "      <td>C:\\Users\\oswal\\Documents\\Kuliah\\Semester 7\\Pra...</td>\n",
       "    </tr>\n",
       "    <tr>\n",
       "      <th>2</th>\n",
       "      <td>GF2_PMS1__L1A0001037899-MSS1</td>\n",
       "      <td>train</td>\n",
       "      <td>C:\\Users\\oswal\\Documents\\Kuliah\\Semester 7\\Pra...</td>\n",
       "      <td>C:\\Users\\oswal\\Documents\\Kuliah\\Semester 7\\Pra...</td>\n",
       "    </tr>\n",
       "    <tr>\n",
       "      <th>3</th>\n",
       "      <td>GF2_PMS1__L1A0001104323-MSS1</td>\n",
       "      <td>train</td>\n",
       "      <td>C:\\Users\\oswal\\Documents\\Kuliah\\Semester 7\\Pra...</td>\n",
       "      <td>C:\\Users\\oswal\\Documents\\Kuliah\\Semester 7\\Pra...</td>\n",
       "    </tr>\n",
       "    <tr>\n",
       "      <th>4</th>\n",
       "      <td>GF2_PMS1__L1A0001290139-MSS1</td>\n",
       "      <td>train</td>\n",
       "      <td>C:\\Users\\oswal\\Documents\\Kuliah\\Semester 7\\Pra...</td>\n",
       "      <td>C:\\Users\\oswal\\Documents\\Kuliah\\Semester 7\\Pra...</td>\n",
       "    </tr>\n",
       "    <tr>\n",
       "      <th>5</th>\n",
       "      <td>GF2_PMS1__L1A0000962382-MSS1</td>\n",
       "      <td>train</td>\n",
       "      <td>C:\\Users\\oswal\\Documents\\Kuliah\\Semester 7\\Pra...</td>\n",
       "      <td>C:\\Users\\oswal\\Documents\\Kuliah\\Semester 7\\Pra...</td>\n",
       "    </tr>\n",
       "    <tr>\n",
       "      <th>6</th>\n",
       "      <td>GF2_PMS1__L1A0001015648-MSS1</td>\n",
       "      <td>valid</td>\n",
       "      <td>C:\\Users\\oswal\\Documents\\Kuliah\\Semester 7\\Pra...</td>\n",
       "      <td>C:\\Users\\oswal\\Documents\\Kuliah\\Semester 7\\Pra...</td>\n",
       "    </tr>\n",
       "    <tr>\n",
       "      <th>7</th>\n",
       "      <td>GF2_PMS1__L1A0001348919-MSS1</td>\n",
       "      <td>valid</td>\n",
       "      <td>C:\\Users\\oswal\\Documents\\Kuliah\\Semester 7\\Pra...</td>\n",
       "      <td>C:\\Users\\oswal\\Documents\\Kuliah\\Semester 7\\Pra...</td>\n",
       "    </tr>\n",
       "    <tr>\n",
       "      <th>8</th>\n",
       "      <td>GF2_PMS1__L1A0001118839-MSS1</td>\n",
       "      <td>test</td>\n",
       "      <td>C:\\Users\\oswal\\Documents\\Kuliah\\Semester 7\\Pra...</td>\n",
       "      <td>C:\\Users\\oswal\\Documents\\Kuliah\\Semester 7\\Pra...</td>\n",
       "    </tr>\n",
       "    <tr>\n",
       "      <th>9</th>\n",
       "      <td>GF2_PMS1__L1A0001064454-MSS1</td>\n",
       "      <td>test</td>\n",
       "      <td>C:\\Users\\oswal\\Documents\\Kuliah\\Semester 7\\Pra...</td>\n",
       "      <td>C:\\Users\\oswal\\Documents\\Kuliah\\Semester 7\\Pra...</td>\n",
       "    </tr>\n",
       "    <tr>\n",
       "      <th>10</th>\n",
       "      <td>GF2_PMS1__L1A0000564539-MSS1</td>\n",
       "      <td>test</td>\n",
       "      <td>C:\\Users\\oswal\\Documents\\Kuliah\\Semester 7\\Pra...</td>\n",
       "      <td>C:\\Users\\oswal\\Documents\\Kuliah\\Semester 7\\Pra...</td>\n",
       "    </tr>\n",
       "  </tbody>\n",
       "</table>\n",
       "</div>"
      ],
      "text/plain": [
       "                        image_id  split  \\\n",
       "0   GF2_PMS1__L1A0001015649-MSS1  train   \n",
       "1   GF2_PMS1__L1A0001094941-MSS1  train   \n",
       "2   GF2_PMS1__L1A0001037899-MSS1  train   \n",
       "3   GF2_PMS1__L1A0001104323-MSS1  train   \n",
       "4   GF2_PMS1__L1A0001290139-MSS1  train   \n",
       "5   GF2_PMS1__L1A0000962382-MSS1  train   \n",
       "6   GF2_PMS1__L1A0001015648-MSS1  valid   \n",
       "7   GF2_PMS1__L1A0001348919-MSS1  valid   \n",
       "8   GF2_PMS1__L1A0001118839-MSS1   test   \n",
       "9   GF2_PMS1__L1A0001064454-MSS1   test   \n",
       "10  GF2_PMS1__L1A0000564539-MSS1   test   \n",
       "\n",
       "                                       sat_image_path  \\\n",
       "0   C:\\Users\\oswal\\Documents\\Kuliah\\Semester 7\\Pra...   \n",
       "1   C:\\Users\\oswal\\Documents\\Kuliah\\Semester 7\\Pra...   \n",
       "2   C:\\Users\\oswal\\Documents\\Kuliah\\Semester 7\\Pra...   \n",
       "3   C:\\Users\\oswal\\Documents\\Kuliah\\Semester 7\\Pra...   \n",
       "4   C:\\Users\\oswal\\Documents\\Kuliah\\Semester 7\\Pra...   \n",
       "5   C:\\Users\\oswal\\Documents\\Kuliah\\Semester 7\\Pra...   \n",
       "6   C:\\Users\\oswal\\Documents\\Kuliah\\Semester 7\\Pra...   \n",
       "7   C:\\Users\\oswal\\Documents\\Kuliah\\Semester 7\\Pra...   \n",
       "8   C:\\Users\\oswal\\Documents\\Kuliah\\Semester 7\\Pra...   \n",
       "9   C:\\Users\\oswal\\Documents\\Kuliah\\Semester 7\\Pra...   \n",
       "10  C:\\Users\\oswal\\Documents\\Kuliah\\Semester 7\\Pra...   \n",
       "\n",
       "                                            mask_path  \n",
       "0   C:\\Users\\oswal\\Documents\\Kuliah\\Semester 7\\Pra...  \n",
       "1   C:\\Users\\oswal\\Documents\\Kuliah\\Semester 7\\Pra...  \n",
       "2   C:\\Users\\oswal\\Documents\\Kuliah\\Semester 7\\Pra...  \n",
       "3   C:\\Users\\oswal\\Documents\\Kuliah\\Semester 7\\Pra...  \n",
       "4   C:\\Users\\oswal\\Documents\\Kuliah\\Semester 7\\Pra...  \n",
       "5   C:\\Users\\oswal\\Documents\\Kuliah\\Semester 7\\Pra...  \n",
       "6   C:\\Users\\oswal\\Documents\\Kuliah\\Semester 7\\Pra...  \n",
       "7   C:\\Users\\oswal\\Documents\\Kuliah\\Semester 7\\Pra...  \n",
       "8   C:\\Users\\oswal\\Documents\\Kuliah\\Semester 7\\Pra...  \n",
       "9   C:\\Users\\oswal\\Documents\\Kuliah\\Semester 7\\Pra...  \n",
       "10  C:\\Users\\oswal\\Documents\\Kuliah\\Semester 7\\Pra...  "
      ]
     },
     "execution_count": 46,
     "metadata": {},
     "output_type": "execute_result"
    }
   ],
   "source": [
    "DATA_PATH = \"./data\"\n",
    "metadata_df = pd.read_csv(os.path.join(DATA_PATH, \"metadata.csv\"))\n",
    "\n",
    "metadata_df"
   ]
  },
  {
   "cell_type": "code",
   "execution_count": 47,
   "metadata": {
    "colab": {
     "base_uri": "https://localhost:8080/",
     "height": 206
    },
    "executionInfo": {
     "elapsed": 25,
     "status": "ok",
     "timestamp": 1674049684828,
     "user": {
      "displayName": "Carlo Sgorlon Gaiatto",
      "userId": "04607051536765363290"
     },
     "user_tz": -60
    },
    "id": "fTboQ_FaMY8i",
    "outputId": "97447368-5775-46e7-c032-9da96053d681"
   },
   "outputs": [
    {
     "data": {
      "text/html": [
       "<div>\n",
       "<style scoped>\n",
       "    .dataframe tbody tr th:only-of-type {\n",
       "        vertical-align: middle;\n",
       "    }\n",
       "\n",
       "    .dataframe tbody tr th {\n",
       "        vertical-align: top;\n",
       "    }\n",
       "\n",
       "    .dataframe thead th {\n",
       "        text-align: right;\n",
       "    }\n",
       "</style>\n",
       "<table border=\"1\" class=\"dataframe\">\n",
       "  <thead>\n",
       "    <tr style=\"text-align: right;\">\n",
       "      <th></th>\n",
       "      <th>image_id</th>\n",
       "      <th>sat_image_path</th>\n",
       "      <th>mask_path</th>\n",
       "    </tr>\n",
       "  </thead>\n",
       "  <tbody>\n",
       "    <tr>\n",
       "      <th>0</th>\n",
       "      <td>GF2_PMS1__L1A0001015649-MSS1</td>\n",
       "      <td>C:\\Users\\oswal\\Documents\\Kuliah\\Semester 7\\Pra...</td>\n",
       "      <td>C:\\Users\\oswal\\Documents\\Kuliah\\Semester 7\\Pra...</td>\n",
       "    </tr>\n",
       "    <tr>\n",
       "      <th>1</th>\n",
       "      <td>GF2_PMS1__L1A0001094941-MSS1</td>\n",
       "      <td>C:\\Users\\oswal\\Documents\\Kuliah\\Semester 7\\Pra...</td>\n",
       "      <td>C:\\Users\\oswal\\Documents\\Kuliah\\Semester 7\\Pra...</td>\n",
       "    </tr>\n",
       "    <tr>\n",
       "      <th>2</th>\n",
       "      <td>GF2_PMS1__L1A0001037899-MSS1</td>\n",
       "      <td>C:\\Users\\oswal\\Documents\\Kuliah\\Semester 7\\Pra...</td>\n",
       "      <td>C:\\Users\\oswal\\Documents\\Kuliah\\Semester 7\\Pra...</td>\n",
       "    </tr>\n",
       "    <tr>\n",
       "      <th>3</th>\n",
       "      <td>GF2_PMS1__L1A0001104323-MSS1</td>\n",
       "      <td>C:\\Users\\oswal\\Documents\\Kuliah\\Semester 7\\Pra...</td>\n",
       "      <td>C:\\Users\\oswal\\Documents\\Kuliah\\Semester 7\\Pra...</td>\n",
       "    </tr>\n",
       "    <tr>\n",
       "      <th>4</th>\n",
       "      <td>GF2_PMS1__L1A0001290139-MSS1</td>\n",
       "      <td>C:\\Users\\oswal\\Documents\\Kuliah\\Semester 7\\Pra...</td>\n",
       "      <td>C:\\Users\\oswal\\Documents\\Kuliah\\Semester 7\\Pra...</td>\n",
       "    </tr>\n",
       "  </tbody>\n",
       "</table>\n",
       "</div>"
      ],
      "text/plain": [
       "                       image_id  \\\n",
       "0  GF2_PMS1__L1A0001015649-MSS1   \n",
       "1  GF2_PMS1__L1A0001094941-MSS1   \n",
       "2  GF2_PMS1__L1A0001037899-MSS1   \n",
       "3  GF2_PMS1__L1A0001104323-MSS1   \n",
       "4  GF2_PMS1__L1A0001290139-MSS1   \n",
       "\n",
       "                                      sat_image_path  \\\n",
       "0  C:\\Users\\oswal\\Documents\\Kuliah\\Semester 7\\Pra...   \n",
       "1  C:\\Users\\oswal\\Documents\\Kuliah\\Semester 7\\Pra...   \n",
       "2  C:\\Users\\oswal\\Documents\\Kuliah\\Semester 7\\Pra...   \n",
       "3  C:\\Users\\oswal\\Documents\\Kuliah\\Semester 7\\Pra...   \n",
       "4  C:\\Users\\oswal\\Documents\\Kuliah\\Semester 7\\Pra...   \n",
       "\n",
       "                                           mask_path  \n",
       "0  C:\\Users\\oswal\\Documents\\Kuliah\\Semester 7\\Pra...  \n",
       "1  C:\\Users\\oswal\\Documents\\Kuliah\\Semester 7\\Pra...  \n",
       "2  C:\\Users\\oswal\\Documents\\Kuliah\\Semester 7\\Pra...  \n",
       "3  C:\\Users\\oswal\\Documents\\Kuliah\\Semester 7\\Pra...  \n",
       "4  C:\\Users\\oswal\\Documents\\Kuliah\\Semester 7\\Pra...  "
      ]
     },
     "execution_count": 47,
     "metadata": {},
     "output_type": "execute_result"
    }
   ],
   "source": [
    "# select only images with masks\n",
    "metadata_df = metadata_df[metadata_df[\"split\"]==\"train\"]\n",
    "# drop \"split\" column\n",
    "metadata_df = metadata_df[[\"image_id\", \"sat_image_path\", \"mask_path\"]]\n",
    "# modify the path of images and masks\n",
    "metadata_df[\"sat_image_path\"] = metadata_df[\"sat_image_path\"].apply(lambda img_pth: os.path.join(DATA_PATH, img_pth))\n",
    "metadata_df[\"mask_path\"] = metadata_df[\"mask_path\"].apply(lambda mask_pth: os.path.join(DATA_PATH, mask_pth))\n",
    "\n",
    "metadata_df.head()"
   ]
  },
  {
   "cell_type": "code",
   "execution_count": 48,
   "metadata": {},
   "outputs": [
    {
     "name": "stdout",
     "output_type": "stream",
     "text": [
      "train: 4\n",
      "valid: 1\n",
      "test: 1\n"
     ]
    },
    {
     "name": "stderr",
     "output_type": "stream",
     "text": [
      "c:\\Users\\oswal\\miniconda3\\envs\\tf\\lib\\site-packages\\numpy\\core\\fromnumeric.py:59: FutureWarning: 'DataFrame.swapaxes' is deprecated and will be removed in a future version. Please use 'DataFrame.transpose' instead.\n",
      "  return bound(*args, **kwds)\n"
     ]
    }
   ],
   "source": [
    "metadata_df_shuffled = metadata_df.sample(frac = 1, random_state = 0).reset_index(drop = True)\n",
    "\n",
    "train_df, valid_df, test_df = np.split(metadata_df_shuffled, [int(0.8*len(metadata_df_shuffled)), int(0.9*len(metadata_df_shuffled))])\n",
    "\n",
    "print(\"train:\", len(train_df))\n",
    "print(\"valid:\", len(valid_df))\n",
    "print(\"test:\", len(test_df))"
   ]
  },
  {
   "cell_type": "code",
   "execution_count": 49,
   "metadata": {},
   "outputs": [
    {
     "data": {
      "text/html": [
       "<div>\n",
       "<style scoped>\n",
       "    .dataframe tbody tr th:only-of-type {\n",
       "        vertical-align: middle;\n",
       "    }\n",
       "\n",
       "    .dataframe tbody tr th {\n",
       "        vertical-align: top;\n",
       "    }\n",
       "\n",
       "    .dataframe thead th {\n",
       "        text-align: right;\n",
       "    }\n",
       "</style>\n",
       "<table border=\"1\" class=\"dataframe\">\n",
       "  <thead>\n",
       "    <tr style=\"text-align: right;\">\n",
       "      <th></th>\n",
       "      <th>image_id</th>\n",
       "      <th>sat_image_path</th>\n",
       "      <th>mask_path</th>\n",
       "    </tr>\n",
       "  </thead>\n",
       "  <tbody>\n",
       "    <tr>\n",
       "      <th>0</th>\n",
       "      <td>GF2_PMS1__L1A0000962382-MSS1</td>\n",
       "      <td>C:\\Users\\oswal\\Documents\\Kuliah\\Semester 7\\Pra...</td>\n",
       "      <td>C:\\Users\\oswal\\Documents\\Kuliah\\Semester 7\\Pra...</td>\n",
       "    </tr>\n",
       "    <tr>\n",
       "      <th>1</th>\n",
       "      <td>GF2_PMS1__L1A0001037899-MSS1</td>\n",
       "      <td>C:\\Users\\oswal\\Documents\\Kuliah\\Semester 7\\Pra...</td>\n",
       "      <td>C:\\Users\\oswal\\Documents\\Kuliah\\Semester 7\\Pra...</td>\n",
       "    </tr>\n",
       "    <tr>\n",
       "      <th>2</th>\n",
       "      <td>GF2_PMS1__L1A0001094941-MSS1</td>\n",
       "      <td>C:\\Users\\oswal\\Documents\\Kuliah\\Semester 7\\Pra...</td>\n",
       "      <td>C:\\Users\\oswal\\Documents\\Kuliah\\Semester 7\\Pra...</td>\n",
       "    </tr>\n",
       "    <tr>\n",
       "      <th>3</th>\n",
       "      <td>GF2_PMS1__L1A0001104323-MSS1</td>\n",
       "      <td>C:\\Users\\oswal\\Documents\\Kuliah\\Semester 7\\Pra...</td>\n",
       "      <td>C:\\Users\\oswal\\Documents\\Kuliah\\Semester 7\\Pra...</td>\n",
       "    </tr>\n",
       "  </tbody>\n",
       "</table>\n",
       "</div>"
      ],
      "text/plain": [
       "                       image_id  \\\n",
       "0  GF2_PMS1__L1A0000962382-MSS1   \n",
       "1  GF2_PMS1__L1A0001037899-MSS1   \n",
       "2  GF2_PMS1__L1A0001094941-MSS1   \n",
       "3  GF2_PMS1__L1A0001104323-MSS1   \n",
       "\n",
       "                                      sat_image_path  \\\n",
       "0  C:\\Users\\oswal\\Documents\\Kuliah\\Semester 7\\Pra...   \n",
       "1  C:\\Users\\oswal\\Documents\\Kuliah\\Semester 7\\Pra...   \n",
       "2  C:\\Users\\oswal\\Documents\\Kuliah\\Semester 7\\Pra...   \n",
       "3  C:\\Users\\oswal\\Documents\\Kuliah\\Semester 7\\Pra...   \n",
       "\n",
       "                                           mask_path  \n",
       "0  C:\\Users\\oswal\\Documents\\Kuliah\\Semester 7\\Pra...  \n",
       "1  C:\\Users\\oswal\\Documents\\Kuliah\\Semester 7\\Pra...  \n",
       "2  C:\\Users\\oswal\\Documents\\Kuliah\\Semester 7\\Pra...  \n",
       "3  C:\\Users\\oswal\\Documents\\Kuliah\\Semester 7\\Pra...  "
      ]
     },
     "execution_count": 49,
     "metadata": {},
     "output_type": "execute_result"
    }
   ],
   "source": [
    "train_df.head()"
   ]
  },
  {
   "cell_type": "code",
   "execution_count": 50,
   "metadata": {
    "colab": {
     "base_uri": "https://localhost:8080/"
    },
    "executionInfo": {
     "elapsed": 82610,
     "status": "ok",
     "timestamp": 1674049767415,
     "user": {
      "displayName": "Carlo Sgorlon Gaiatto",
      "userId": "04607051536765363290"
     },
     "user_tz": -60
    },
    "id": "ulG7eCapG1Q_",
    "outputId": "08338c9c-ca9c-4e59-960d-87f005c20f08"
   },
   "outputs": [
    {
     "name": "stdout",
     "output_type": "stream",
     "text": [
      "Directory './data\\train_patches' removed\n",
      "Directory './data\\train_patches' created\n",
      "Directory './data\\valid_patches' removed\n",
      "Directory './data\\valid_patches' created\n",
      "Directory './data\\test_patches' removed\n",
      "Directory './data\\test_patches' created\n"
     ]
    }
   ],
   "source": [
    "for dir_name in [\"train_patches\", \"valid_patches\", \"test_patches\"]:\n",
    "    \n",
    "    DIR_PATH = os.path.join(DATA_PATH, dir_name)\n",
    "\n",
    "    if os.path.isdir(DIR_PATH):\n",
    "        # remove directory\n",
    "        shutil.rmtree(DIR_PATH)\n",
    "        print(\"Directory '{}' removed\".format(DIR_PATH))\n",
    "\n",
    "    if not os.path.isdir(DIR_PATH):\n",
    "        # create directory\n",
    "        os.mkdir(DIR_PATH)\n",
    "        print(\"Directory '{}' created\".format(DIR_PATH))"
   ]
  },
  {
   "cell_type": "code",
   "execution_count": 51,
   "metadata": {
    "colab": {
     "base_uri": "https://localhost:8080/"
    },
    "executionInfo": {
     "elapsed": 295,
     "status": "ok",
     "timestamp": 1674049769542,
     "user": {
      "displayName": "Carlo Sgorlon Gaiatto",
      "userId": "04607051536765363290"
     },
     "user_tz": -60
    },
    "id": "v7f_iVBEKnfC",
    "outputId": "a3525abf-e2dd-40e1-926f-4be64dd7fe65"
   },
   "outputs": [
    {
     "name": "stdout",
     "output_type": "stream",
     "text": [
      "File ./data\\train_metadata_patches.csv removed\n",
      "File ./data\\train_metadata_patches.csv created\n",
      "File ./data\\valid_metadata_patches.csv removed\n",
      "File ./data\\valid_metadata_patches.csv created\n",
      "File ./data\\test_metadata_patches.csv removed\n",
      "File ./data\\test_metadata_patches.csv created\n"
     ]
    }
   ],
   "source": [
    "for file_name in [\"train\", \"valid\", \"test\"]:\n",
    "    \n",
    "    METADATA_PATCHES_PATH = os.path.join(DATA_PATH, file_name + \"_metadata_patches.csv\")\n",
    "\n",
    "    if os.path.exists(METADATA_PATCHES_PATH):\n",
    "        # remove file\n",
    "        os.remove(METADATA_PATCHES_PATH)\n",
    "        print(\"File {} removed\".format(METADATA_PATCHES_PATH))\n",
    "\n",
    "    # create file with header\n",
    "    with open(METADATA_PATCHES_PATH, \"w\", newline = \"\") as f:\n",
    "        writer = csv.writer(f)\n",
    "        writer.writerow([\"image_id\", \"sat_image_path\", \"mask_path\"])\n",
    "        print(\"File {} created\".format(METADATA_PATCHES_PATH))"
   ]
  },
  {
   "cell_type": "code",
   "execution_count": 52,
   "metadata": {
    "id": "rIrhG-euQiZi"
   },
   "outputs": [],
   "source": [
    "# patches settings\n",
    "original_size = 7300\n",
    "scale = [1.25, 1, 0.75, 0.5]\n",
    "patch_size = 128\n",
    "stride = 128\n",
    "\n",
    "patch_idx = {}\n",
    "for s in scale:\n",
    "    patch_idx[s] =  [stride*i for i in range(int(int(original_size*s)/stride))]"
   ]
  },
  {
   "cell_type": "code",
   "execution_count": 53,
   "metadata": {
    "colab": {
     "base_uri": "https://localhost:8080/"
    },
    "executionInfo": {
     "elapsed": 6,
     "status": "ok",
     "timestamp": 1674049772349,
     "user": {
      "displayName": "Carlo Sgorlon Gaiatto",
      "userId": "04607051536765363290"
     },
     "user_tz": -60
    },
    "id": "XbiF2w0Sc8Ki",
    "outputId": "caeabd4c-54b8-4e19-a11e-d4167a32f64e"
   },
   "outputs": [
    {
     "name": "stdout",
     "output_type": "stream",
     "text": [
      "-------------------------------------\n",
      "Patches information along 1 dimension\n",
      "-------------------------------------\n",
      "\n",
      "scale:   patch indexes:                                                                       discarded pixels:  number of patches: \n",
      "\n",
      "1.25     [0, 128, 256, 384, 512, 640, 768, 896, 1024, 1152, 1280, 1408, 1536, 1664, 1792, 1920, 2048, 2176, 2304, 2432, 2560, 2688, 2816, 2944, 3072, 3200, 3328, 3456, 3584, 3712, 3840, 3968, 4096, 4224, 4352, 4480, 4608, 4736, 4864, 4992, 5120, 5248, 5376, 5504, 5632, 5760, 5888, 6016, 6144, 6272, 6400, 6528, 6656, 6784, 6912, 7040, 7168, 7296, 7424, 7552, 7680, 7808, 7936, 8064, 8192, 8320, 8448, 8576, 8704, 8832, 8960] 37                 71        \n",
      "1        [0, 128, 256, 384, 512, 640, 768, 896, 1024, 1152, 1280, 1408, 1536, 1664, 1792, 1920, 2048, 2176, 2304, 2432, 2560, 2688, 2816, 2944, 3072, 3200, 3328, 3456, 3584, 3712, 3840, 3968, 4096, 4224, 4352, 4480, 4608, 4736, 4864, 4992, 5120, 5248, 5376, 5504, 5632, 5760, 5888, 6016, 6144, 6272, 6400, 6528, 6656, 6784, 6912, 7040, 7168] 4                  57        \n",
      "0.75     [0, 128, 256, 384, 512, 640, 768, 896, 1024, 1152, 1280, 1408, 1536, 1664, 1792, 1920, 2048, 2176, 2304, 2432, 2560, 2688, 2816, 2944, 3072, 3200, 3328, 3456, 3584, 3712, 3840, 3968, 4096, 4224, 4352, 4480, 4608, 4736, 4864, 4992, 5120, 5248] 99                 42        \n",
      "0.5      [0, 128, 256, 384, 512, 640, 768, 896, 1024, 1152, 1280, 1408, 1536, 1664, 1792, 1920, 2048, 2176, 2304, 2432, 2560, 2688, 2816, 2944, 3072, 3200, 3328, 3456] 66                 28        \n"
     ]
    }
   ],
   "source": [
    "print(\"-------------------------------------\")\n",
    "print(\"Patches information along 1 dimension\")\n",
    "print(\"-------------------------------------\\n\")\n",
    "\n",
    "format_spec = \"{:<8} {:<84} {:<18} {:<10}\"\n",
    "print(format_spec.format(\"scale:\", \"patch indexes:\", \"discarded pixels:\", \"number of patches:\"), \"\\n\")\n",
    "\n",
    "for key, value in patch_idx.items():\n",
    "    discarded_pixels = int(original_size*key) - (value[-1] + patch_size)\n",
    "    print(format_spec.format(str(key), str(value), str(discarded_pixels), str(len(value))))"
   ]
  },
  {
   "cell_type": "code",
   "execution_count": 54,
   "metadata": {
    "id": "Dxv3zF9cQiQA"
   },
   "outputs": [],
   "source": [
    "def create_patches(metadata, scale, dir_name, METADATA_PATCHES_PATH):\n",
    "\n",
    "    id = metadata[0]\n",
    "    image_path = metadata[1]\n",
    "    mask_path = metadata[2]\n",
    "\n",
    "    image = cv2.cvtColor(cv2.imread(image_path), cv2.COLOR_BGR2RGB)\n",
    "    mask = cv2.cvtColor(cv2.imread(mask_path), cv2.COLOR_BGR2RGB)\n",
    "\n",
    "    if image.shape[0] != original_size:\n",
    "        raise ValueError(\"The image size should be \" + str(original_size))\n",
    "\n",
    "    for s in scale:\n",
    "\n",
    "        # resize image and mask\n",
    "        scaled_size = int(image.shape[0]*s)\n",
    "        scaled_image = cv2.resize(image, (scaled_size, scaled_size))\n",
    "        scaled_mask = cv2.resize(mask, (scaled_size, scaled_size))\n",
    "\n",
    "        if scaled_image.shape[0] < patch_idx[s][-1] + patch_size:\n",
    "            raise ValueError(\"The scaled image should contain all the patches\")\n",
    "\n",
    "        for i in patch_idx[s]:\n",
    "            for j in patch_idx[s]:\n",
    "\n",
    "                # get patches\n",
    "                scaled_image_patch = scaled_image[i:i+patch_size, j:j+patch_size, :]\n",
    "                scaled_mask_patch = scaled_mask[i:i+patch_size, j:j+patch_size, :]\n",
    "\n",
    "                # create paths\n",
    "                scaled_image_patch_path = dir_name + \"/{}_sat_{}_{}_{}.tif\".format(str(id), str(int(s*100)), str(i), str(j))\n",
    "                scaled_mask_patch_path = dir_name + \"/{}_mask_{}_{}_{}.tif\".format(str(id), str(int(s*100)), str(i), str(j))\n",
    "\n",
    "                # save patches\n",
    "                cv2.imwrite(os.path.join(DATA_PATH, scaled_image_patch_path), scaled_image_patch)\n",
    "                cv2.imwrite(os.path.join(DATA_PATH, scaled_mask_patch_path), scaled_mask_patch)\n",
    "\n",
    "                # update the metadata of patches\n",
    "                with open(METADATA_PATCHES_PATH, \"a\", newline = \"\") as f:\n",
    "                    writer = csv.writer(f)\n",
    "                    writer.writerow([id, scaled_image_patch_path, scaled_mask_patch_path])"
   ]
  },
  {
   "cell_type": "code",
   "execution_count": 55,
   "metadata": {
    "colab": {
     "base_uri": "https://localhost:8080/"
    },
    "executionInfo": {
     "elapsed": 123551,
     "status": "ok",
     "timestamp": 1674049901500,
     "user": {
      "displayName": "Carlo Sgorlon Gaiatto",
      "userId": "04607051536765363290"
     },
     "user_tz": -60
    },
    "id": "SS1HqF3LiSG7",
    "outputId": "0358ccaf-e15a-47e4-ab14-bee060f850f3"
   },
   "outputs": [
    {
     "name": "stderr",
     "output_type": "stream",
     "text": [
      "100%|██████████| 4/4 [01:35<00:00, 23.84s/it]\n"
     ]
    }
   ],
   "source": [
    "# create train patches\n",
    "for sample in tqdm(train_df[[\"image_id\", \"sat_image_path\",\"mask_path\"]].values.tolist()):\n",
    "    create_patches(sample, scale, 'train_patches', './data/train_metadata_patches.csv')"
   ]
  },
  {
   "cell_type": "code",
   "execution_count": 56,
   "metadata": {},
   "outputs": [
    {
     "name": "stderr",
     "output_type": "stream",
     "text": [
      "100%|██████████| 1/1 [00:08<00:00,  8.46s/it]\n"
     ]
    }
   ],
   "source": [
    "# create valid patches\n",
    "for sample in tqdm(valid_df[[\"image_id\", \"sat_image_path\",\"mask_path\"]].values.tolist()):\n",
    "    create_patches(sample, [1], 'valid_patches', './data/valid_metadata_patches.csv')"
   ]
  },
  {
   "cell_type": "code",
   "execution_count": 57,
   "metadata": {},
   "outputs": [
    {
     "name": "stderr",
     "output_type": "stream",
     "text": [
      "100%|██████████| 1/1 [00:08<00:00,  8.25s/it]\n"
     ]
    }
   ],
   "source": [
    "# create test patches\n",
    "for sample in tqdm(test_df[[\"image_id\", \"sat_image_path\",\"mask_path\"]].values.tolist()):\n",
    "    create_patches(sample, [1], 'test_patches', './data/test_metadata_patches.csv')"
   ]
  },
  {
   "cell_type": "code",
   "execution_count": null,
   "metadata": {},
   "outputs": [],
   "source": []
  }
 ],
 "metadata": {
  "colab": {
   "provenance": []
  },
  "environment": {
   "kernel": "python3",
   "name": "pytorch-gpu.1-13.m102",
   "type": "gcloud",
   "uri": "gcr.io/deeplearning-platform-release/pytorch-gpu.1-13:m102"
  },
  "gpuClass": "standard",
  "kernelspec": {
   "display_name": "Python 3 (ipykernel)",
   "language": "python",
   "name": "python3"
  },
  "language_info": {
   "codemirror_mode": {
    "name": "ipython",
    "version": 3
   },
   "file_extension": ".py",
   "mimetype": "text/x-python",
   "name": "python",
   "nbconvert_exporter": "python",
   "pygments_lexer": "ipython3",
   "version": "3.9.18"
  }
 },
 "nbformat": 4,
 "nbformat_minor": 4
}
